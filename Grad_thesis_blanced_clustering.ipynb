{
 "cells": [
  {
   "cell_type": "markdown",
   "id": "4f886030",
   "metadata": {},
   "source": [
    "# 卒論 均等クラスタリング\n",
    "\n",
    "## Introduction\n",
    "### 背景\n",
    "\n",
    "新型コロナウイルスでの療養対応にあたり、限られた医療リソースを効率良く使うために、最適なヘルパーと患者のマッチングが必要。\n",
    "\n",
    "- 自宅療養の場合、療養者全体がP\n",
    "- ヘルパーを何人配置すれば、１人１人のヘルパーの負担が均等になり、また全ての療養者が早めに対応してもらえるか？\n",
    "- チャレンジ：療養者が随時に増減（体調などの状況も変化）するから一回のクラスタリングすればよいような静的なアルゴリズムは向かない\n",
    "\n",
    "\n",
    "### 問題\n",
    "\n",
    "- オブジェクト集合Pをk個のクラスタC1, …, Ckに分ける。ただし\n",
    "- クラスタCi内において、ロードL(Ci)を定義、計算\n",
    "- 各クラスタの間、ロードLが等しい（差がなるべく小さい）ようにする\n",
    "- （物理的な上限L0を超えない：　L(Ci)≦L0）←今回は考えない？\n",
    "- 上記制約のもと、全てのクラスタに関して、上記のロードLの和+kBが最小となるk (Bがペナルティ)\n",
    "\n",
    "\n",
    "クラスタCにおけるロードL(C) は何がいいか？\n",
    "1. Cの分散（標準偏差）sd(C), L(C)=|C|+sd(C)\n",
    "2. クラスタCのL：L(C)=|C|+log(C内のペアごとのユークリッド距離和)  ←問題あり\n",
    "\n",
    "### 既存アルゴリズム\n",
    "\n",
    "- K-means\n",
    "- Balanced K-means\n",
    "- X-means\n",
    "\n",
    "\n",
    "## 実験方法\n",
    "\n",
    "### 検証\n",
    " - 当てはまり度\n",
    " - 実行速度\n",
    "\n",
    "## 解法\n",
    "\n",
    "#### 手法1 k-means 漸近的に\n",
    "k-meansでLをもとめる。ある程度の数になるまで実行し、どのKのときにLが最小化するか\n",
    "\n",
    "#### 手法2 x-means\n",
    "わからない\n",
    "\n",
    "\n",
    "## 環境\n",
    "- Julia 1.6.3\n",
    "\n"
   ]
  },
  {
   "cell_type": "markdown",
   "id": "24216da3",
   "metadata": {},
   "source": [
    "## Julia installed, sandbox"
   ]
  },
  {
   "cell_type": "code",
   "execution_count": null,
   "id": "a09bfa78",
   "metadata": {},
   "outputs": [],
   "source": [
    "f(x) = x, x^2\n",
    "double(max) = [f(n) for n=1:max]\n",
    "\n",
    "\n"
   ]
  },
  {
   "cell_type": "code",
   "execution_count": 2,
   "id": "85a4c290",
   "metadata": {},
   "outputs": [
    {
     "ename": "LoadError",
     "evalue": "ArgumentError: Package Plots not found in current path:\n- Run `import Pkg; Pkg.add(\"Plots\")` to install the Plots package.\n",
     "output_type": "error",
     "traceback": [
      "ArgumentError: Package Plots not found in current path:\n- Run `import Pkg; Pkg.add(\"Plots\")` to install the Plots package.\n",
      "",
      "Stacktrace:",
      " [1] require(into::Module, mod::Symbol)",
      "   @ Base ./loading.jl:893",
      " [2] eval",
      "   @ ./boot.jl:360 [inlined]",
      " [3] include_string(mapexpr::typeof(REPL.softscope), mod::Module, code::String, filename::String)",
      "   @ Base ./loading.jl:1116"
     ]
    }
   ],
   "source": [
    "using Plots\n",
    "\n",
    "plot(double(30), st=:scatter, )"
   ]
  },
  {
   "cell_type": "markdown",
   "id": "203e5865",
   "metadata": {},
   "source": [
    "## 手法1"
   ]
  },
  {
   "cell_type": "markdown",
   "id": "ecdb449f",
   "metadata": {},
   "source": [
    "### データの用意\n",
    "- iris (150 row)\n",
    "  - PetalLength, PetalWidth\n",
    "- quakes (1000 row)\n",
    "  - Earthqueakes of Fiji\n",
    "  - long, lat"
   ]
  },
  {
   "cell_type": "code",
   "execution_count": 3,
   "id": "a0a8703f",
   "metadata": {},
   "outputs": [],
   "source": [
    "# "
   ]
  },
  {
   "cell_type": "markdown",
   "id": "85b7bb68",
   "metadata": {},
   "source": [
    "### 解く\n",
    "問題 `SumL + kB` を最小化するような`k`を見つける。\n",
    "\n",
    "#### L(C)を定義する\n",
    "- L(C)=|C|+sd(C), Cの分散\n",
    "- 分散がベクトルなので、足し合わせる。\n",
    "\n",
    "#### Basic Penalty\n",
    "penaltyはデータの特性、外部要件により調整.\n",
    "\n",
    "#### アルゴリズム\n",
    "1. k=1の時に、 各L(Ci)の差が最小となる組み合わせをみつける。\n",
    "    - 標準のk-meansを適用する。\n",
    "        - k-means++\n",
    "        - クラスタCiの中心からの距離の和が最小とするような、クラスタをみつける\n",
    "        - k個のクラスタと各クラスタCiの中心が得られる\n",
    "        - 問題：k-meansだとロードLが等しい（差がなるべく小さい）ようにするの成約が無効？一旦置いとく。\n",
    "            - 理由：一回で計算されてしまうから。あとは初期値を変えて試すか、L(C)の条件を加味しないといけない？\n",
    "    - L(Ci) を計算する \n",
    "    - クラスタ間のLiから分散: varianceLを計算する　(負担が均等かの評価に使おうと思ったが k-meansだけだと使わない？）\n",
    "        - 配列 [L(Ci) for i=1:k ] \n",
    "        - 平均L~を計算\n",
    "        - varianceL = 1/k * Sum (Li - L~)^2\n",
    "    - \n",
    "2. k=k+1 をして、1を十分な回数繰り返す。\n",
    "    - ”十分な数”を定数で決めておく\n",
    "3. 解\n",
    "    - ~varianceLが最小のkが優勝~\n",
    "    - SumLが最小のkが優勝\n"
   ]
  },
  {
   "cell_type": "code",
   "execution_count": 4,
   "id": "6f1594fa",
   "metadata": {},
   "outputs": [
    {
     "ename": "LoadError",
     "evalue": "ArgumentError: Package RDatasets not found in current path:\n- Run `import Pkg; Pkg.add(\"RDatasets\")` to install the RDatasets package.\n",
     "output_type": "error",
     "traceback": [
      "ArgumentError: Package RDatasets not found in current path:\n- Run `import Pkg; Pkg.add(\"RDatasets\")` to install the RDatasets package.\n",
      "",
      "Stacktrace:",
      " [1] require(into::Module, mod::Symbol)",
      "   @ Base ./loading.jl:893",
      " [2] eval",
      "   @ ./boot.jl:360 [inlined]",
      " [3] include_string(mapexpr::typeof(REPL.softscope), mod::Module, code::String, filename::String)",
      "   @ Base ./loading.jl:1116"
     ]
    }
   ],
   "source": [
    "using RDatasets, Clustering, Plots, Statistics, DataFrames"
   ]
  },
  {
   "cell_type": "code",
   "execution_count": 5,
   "id": "41b270c1",
   "metadata": {},
   "outputs": [
    {
     "ename": "LoadError",
     "evalue": "UndefVarError: dataset not defined",
     "output_type": "error",
     "traceback": [
      "UndefVarError: dataset not defined",
      "",
      "Stacktrace:",
      " [1] top-level scope",
      "   @ In[5]:1",
      " [2] eval",
      "   @ ./boot.jl:360 [inlined]",
      " [3] include_string(mapexpr::typeof(REPL.softscope), mod::Module, code::String, filename::String)",
      "   @ Base ./loading.jl:1116"
     ]
    }
   ],
   "source": [
    "iris = dataset(\"datasets\", \"iris\"); # load the data\n",
    "# features = collect(Matrix(iris[:, 1:2])')\n",
    "\n",
    "quakes = dataset(\"datasets\", \"quakes\"); # load the data\n",
    "\n",
    "println(first(quakes, 5))\n",
    "\n",
    "\n",
    "features = collect(Matrix(quakes[:, 1:2])')\n",
    "\n",
    "scatter(quakes.Lat, quakes.Long,\n",
    "        legend=false)"
   ]
  },
  {
   "cell_type": "code",
   "execution_count": 6,
   "id": "bc4b95e5",
   "metadata": {},
   "outputs": [
    {
     "data": {
      "text/plain": [
       "findClusters (generic function with 3 methods)"
      ]
     },
     "execution_count": 6,
     "metadata": {},
     "output_type": "execute_result"
    }
   ],
   "source": [
    "# Algorithm\n",
    "\n",
    "function retriveCluster(data, cluster_idx, asm)\n",
    "    return [data[i,:] for i=1:size(data,1) if asm[i] == cluster_idx]\n",
    "end\n",
    "\n",
    "function calcLoad(cluster)\n",
    "    return reduce(+, Statistics.var(cluster)) + size(cluster,1)\n",
    "end\n",
    "\n",
    "function findClusters(data, k=1, basic_penalty=1)\n",
    "    # k-means\n",
    "    R = kmeans(data, k; maxiter=200, display=:none)\n",
    "\n",
    "    a = assignments(R) # get the assignments of points to cluster\n",
    "    c = counts(R) # get the cluster sizes\n",
    "    nclust = nclusters(R)\n",
    "    M = R.centers # get the cluster centers\n",
    "\n",
    "    # calc L(C) of all Cluster\n",
    "    \n",
    "    data_t = transpose(data)\n",
    "    loads = []\n",
    "    for i=1:nclust\n",
    "        cluster = retriveCluster(data_t, i, a)\n",
    "        load = calcLoad(cluster)\n",
    "        push!(loads, load)\n",
    "    end\n",
    "    \n",
    "    # calc variance of L of all Cluster\n",
    "    varL = Statistics.var(loads)\n",
    "    \n",
    "    # calc sum L + kB, B is penalty\n",
    "    sumL = reduce(+, loads) + k * basic_penalty\n",
    "    \n",
    "   \n",
    "    return a,c,M, sumL, varL\n",
    "end"
   ]
  },
  {
   "cell_type": "code",
   "execution_count": 7,
   "id": "0f7e9928",
   "metadata": {},
   "outputs": [
    {
     "ename": "LoadError",
     "evalue": "UndefVarError: features not defined",
     "output_type": "error",
     "traceback": [
      "UndefVarError: features not defined",
      "",
      "Stacktrace:",
      " [1] top-level scope",
      "   @ ./In[7]:10",
      " [2] eval",
      "   @ ./boot.jl:360 [inlined]",
      " [3] include_string(mapexpr::typeof(REPL.softscope), mod::Module, code::String, filename::String)",
      "   @ Base ./loading.jl:1116"
     ]
    }
   ],
   "source": [
    "# test\n",
    "\n",
    "basic_penalty = 3\n",
    "\n",
    "# find k that minimaize sumL\n",
    "sums = []\n",
    "varLs = []\n",
    "prots = []\n",
    "for k=1:20\n",
    "    a,c,M, sumL, varL = findClusters(features, k, basic_penalty)\n",
    "    println(\"$k: sumL: $sumL, varL: $varL\")\n",
    "    push!(sums, sumL)\n",
    "    push!(varLs, varL)\n",
    "    \n",
    "    # plot sclustering\n",
    "    prot = scatter(quakes.Lat, quakes.Long, marker_z=a,\n",
    "        color=:lightrainbow, legend=false)\n",
    "    push!(prots, prot)\n",
    "    \n",
    "end\n",
    "\n",
    "minL, minK = findmin(sums)\n",
    "println(\"minK: $minK, L: $minL\")\n",
    "p1 = plot(sums, legend=false, title=\"Sum of Loads\")\n",
    "p2 = plot(varLs, legend=false, title=\"variance of Loads\")\n",
    "\n",
    "plot(p1,p2)\n"
   ]
  },
  {
   "cell_type": "code",
   "execution_count": 8,
   "id": "441738e2",
   "metadata": {},
   "outputs": [
    {
     "ename": "LoadError",
     "evalue": "UndefVarError: plot not defined",
     "output_type": "error",
     "traceback": [
      "UndefVarError: plot not defined",
      "",
      "Stacktrace:",
      " [1] top-level scope",
      "   @ In[8]:2",
      " [2] eval",
      "   @ ./boot.jl:360 [inlined]",
      " [3] include_string(mapexpr::typeof(REPL.softscope), mod::Module, code::String, filename::String)",
      "   @ Base ./loading.jl:1116"
     ]
    }
   ],
   "source": [
    "# plot clustering\n",
    "plot(prots..., layout=(5,2))"
   ]
  },
  {
   "cell_type": "code",
   "execution_count": null,
   "id": "3a4b96c0",
   "metadata": {},
   "outputs": [],
   "source": []
  },
  {
   "cell_type": "code",
   "execution_count": null,
   "id": "5adf9ac1",
   "metadata": {},
   "outputs": [],
   "source": []
  }
 ],
 "metadata": {
  "kernelspec": {
   "display_name": "Julia 1.6.3",
   "language": "julia",
   "name": "julia-1.6"
  },
  "language_info": {
   "file_extension": ".jl",
   "mimetype": "application/julia",
   "name": "julia",
   "version": "1.6.3"
  }
 },
 "nbformat": 4,
 "nbformat_minor": 5
}
